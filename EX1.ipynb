{
 "cells": [
  {
   "cell_type": "markdown",
   "id": "ea35cde4",
   "metadata": {},
   "source": [
    "<div class=\"alert alert-block alert-success\">\n",
    "    <h1 align=\"center\">1-Import the dataset and uzip it</h1>\n",
    "</div>"
   ]
  },
  {
   "cell_type": "code",
   "execution_count": 1,
   "id": "171e0ab5",
   "metadata": {},
   "outputs": [],
   "source": [
    "from urllib.request import urlretrieve # To download database from websites\n",
    "import zipfile, os"
   ]
  },
  {
   "cell_type": "code",
   "execution_count": 2,
   "id": "eb7959e7",
   "metadata": {},
   "outputs": [],
   "source": [
    "# If file exists, skip the download\n",
    "data_file_path = \"Data_manager_split_datasets/Movielens10M/\"\n",
    "data_file_name = data_file_path + \"movielens_10m.zip\"\n",
    "\n",
    "# If directory does not exist, create\n",
    "if not os.path.exists(data_file_path):\n",
    "    os.makedirs(data_file_path)\n",
    "\n",
    "if not os.path.exists(data_file_name):\n",
    "    urlretrieve (\"http://files.grouplens.org/datasets/movielens/ml-10m.zip\", data_file_name)"
   ]
  },
  {
   "cell_type": "code",
   "execution_count": 3,
   "id": "5acb3fee",
   "metadata": {},
   "outputs": [],
   "source": [
    "dataFile = zipfile.ZipFile(data_file_path + \"movielens_10m.zip\") # Define that it is a kinda zip\n",
    "URM_path = dataFile.extract(\"ml-10M100K/ratings.dat\", path = data_file_path + \"decompressed/\") # Unzip it\n"
   ]
  },
  {
   "cell_type": "code",
   "execution_count": 4,
   "id": "e27d473a",
   "metadata": {},
   "outputs": [],
   "source": [
    "URM_file = open(URM_path, 'r') # Open the file"
   ]
  },
  {
   "cell_type": "markdown",
   "id": "491b5ff0",
   "metadata": {},
   "source": [
    "<div class=\"alert alert-block alert-success\">\n",
    "    <h1 align=\"center\">2-Turn dataset to a dataframe</h1>\n",
    "</div>"
   ]
  },
  {
   "cell_type": "code",
   "execution_count": 5,
   "id": "4ad32a72",
   "metadata": {},
   "outputs": [],
   "source": [
    "import pandas as pd"
   ]
  },
  {
   "cell_type": "code",
   "execution_count": 6,
   "id": "f54e5d13",
   "metadata": {},
   "outputs": [],
   "source": [
    "URM_all_dataframe = pd.read_csv(filepath_or_buffer=URM_path, \n",
    "                                sep=\"::\", \n",
    "                                header=None, \n",
    "                                dtype={0:int, 1:int, 2:float, 3:int},\n",
    "                                engine='python')\n",
    "\n",
    "URM_all_dataframe.columns = [\"UserID\", \"ItemID\", \"Interaction\", \"Timestamp\"]"
   ]
  },
  {
   "cell_type": "code",
   "execution_count": 7,
   "id": "f9a614a6",
   "metadata": {},
   "outputs": [
    {
     "data": {
      "text/html": [
       "<div>\n",
       "<style scoped>\n",
       "    .dataframe tbody tr th:only-of-type {\n",
       "        vertical-align: middle;\n",
       "    }\n",
       "\n",
       "    .dataframe tbody tr th {\n",
       "        vertical-align: top;\n",
       "    }\n",
       "\n",
       "    .dataframe thead th {\n",
       "        text-align: right;\n",
       "    }\n",
       "</style>\n",
       "<table border=\"1\" class=\"dataframe\">\n",
       "  <thead>\n",
       "    <tr style=\"text-align: right;\">\n",
       "      <th></th>\n",
       "      <th>UserID</th>\n",
       "      <th>ItemID</th>\n",
       "      <th>Interaction</th>\n",
       "      <th>Timestamp</th>\n",
       "    </tr>\n",
       "  </thead>\n",
       "  <tbody>\n",
       "    <tr>\n",
       "      <th>0</th>\n",
       "      <td>1</td>\n",
       "      <td>122</td>\n",
       "      <td>5.0</td>\n",
       "      <td>838985046</td>\n",
       "    </tr>\n",
       "    <tr>\n",
       "      <th>1</th>\n",
       "      <td>1</td>\n",
       "      <td>185</td>\n",
       "      <td>5.0</td>\n",
       "      <td>838983525</td>\n",
       "    </tr>\n",
       "    <tr>\n",
       "      <th>2</th>\n",
       "      <td>1</td>\n",
       "      <td>231</td>\n",
       "      <td>5.0</td>\n",
       "      <td>838983392</td>\n",
       "    </tr>\n",
       "    <tr>\n",
       "      <th>3</th>\n",
       "      <td>1</td>\n",
       "      <td>292</td>\n",
       "      <td>5.0</td>\n",
       "      <td>838983421</td>\n",
       "    </tr>\n",
       "    <tr>\n",
       "      <th>4</th>\n",
       "      <td>1</td>\n",
       "      <td>316</td>\n",
       "      <td>5.0</td>\n",
       "      <td>838983392</td>\n",
       "    </tr>\n",
       "    <tr>\n",
       "      <th>5</th>\n",
       "      <td>1</td>\n",
       "      <td>329</td>\n",
       "      <td>5.0</td>\n",
       "      <td>838983392</td>\n",
       "    </tr>\n",
       "    <tr>\n",
       "      <th>6</th>\n",
       "      <td>1</td>\n",
       "      <td>355</td>\n",
       "      <td>5.0</td>\n",
       "      <td>838984474</td>\n",
       "    </tr>\n",
       "    <tr>\n",
       "      <th>7</th>\n",
       "      <td>1</td>\n",
       "      <td>356</td>\n",
       "      <td>5.0</td>\n",
       "      <td>838983653</td>\n",
       "    </tr>\n",
       "    <tr>\n",
       "      <th>8</th>\n",
       "      <td>1</td>\n",
       "      <td>362</td>\n",
       "      <td>5.0</td>\n",
       "      <td>838984885</td>\n",
       "    </tr>\n",
       "    <tr>\n",
       "      <th>9</th>\n",
       "      <td>1</td>\n",
       "      <td>364</td>\n",
       "      <td>5.0</td>\n",
       "      <td>838983707</td>\n",
       "    </tr>\n",
       "  </tbody>\n",
       "</table>\n",
       "</div>"
      ],
      "text/plain": [
       "   UserID  ItemID  Interaction  Timestamp\n",
       "0       1     122          5.0  838985046\n",
       "1       1     185          5.0  838983525\n",
       "2       1     231          5.0  838983392\n",
       "3       1     292          5.0  838983421\n",
       "4       1     316          5.0  838983392\n",
       "5       1     329          5.0  838983392\n",
       "6       1     355          5.0  838984474\n",
       "7       1     356          5.0  838983653\n",
       "8       1     362          5.0  838984885\n",
       "9       1     364          5.0  838983707"
      ]
     },
     "execution_count": 7,
     "metadata": {},
     "output_type": "execute_result"
    }
   ],
   "source": [
    "URM_all_dataframe.head(10)"
   ]
  },
  {
   "cell_type": "code",
   "execution_count": 8,
   "id": "43b8e212",
   "metadata": {},
   "outputs": [
    {
     "name": "stdout",
     "output_type": "stream",
     "text": [
      "The number of interactions is 10000054\n",
      "URM_all_dataframe.shape (10000054, 4)\n"
     ]
    }
   ],
   "source": [
    "print (\"The number of interactions is {}\".format(len(URM_all_dataframe)))\n",
    "print('URM_all_dataframe.shape',URM_all_dataframe.shape)"
   ]
  },
  {
   "cell_type": "markdown",
   "id": "289012fb",
   "metadata": {},
   "source": [
    "<div class=\"alert alert-block alert-success\">\n",
    "    <h1 align=\"center\">3-EDA on data</h1>\n",
    "</div>"
   ]
  },
  {
   "cell_type": "markdown",
   "id": "ee1843b1",
   "metadata": {},
   "source": [
    "### We can use this data to create a sparse matrix, notice that we have red UserID and ItemID as int\n",
    "### This is not always possible if the IDs are alphanumeric"
   ]
  },
  {
   "cell_type": "markdown",
   "id": "7d33d0dc",
   "metadata": {},
   "source": [
    "## Now we can extract the list of unique user id and item id and display some statistics"
   ]
  },
  {
   "cell_type": "code",
   "execution_count": 9,
   "id": "cbcc5e13",
   "metadata": {},
   "outputs": [
    {
     "name": "stdout",
     "output_type": "stream",
     "text": [
      "Number of items\t 10677, Number of users\t 69878\n",
      "Max ID items\t 65133, Max Id users\t 71567\n",
      "\n"
     ]
    }
   ],
   "source": [
    "userID_unique = URM_all_dataframe[\"UserID\"].unique()\n",
    "itemID_unique = URM_all_dataframe[\"ItemID\"].unique()\n",
    "n_users = len(userID_unique)\n",
    "n_items = len(itemID_unique)\n",
    "n_interactions = len(URM_all_dataframe)\n",
    "\n",
    "print (\"Number of items\\t {}, Number of users\\t {}\".format(n_items, n_users))\n",
    "print (\"Max ID items\\t {}, Max Id users\\t {}\\n\".format(max(itemID_unique), max(userID_unique)))"
   ]
  },
  {
   "cell_type": "markdown",
   "id": "714a9452",
   "metadata": {},
   "source": [
    "### See that the max ID of items and users is higher than the number of unique values -> empty profiles\n",
    "### We should remove empty indices, to do so we create a new mapping"
   ]
  },
  {
   "cell_type": "code",
   "execution_count": 10,
   "id": "5feb0581",
   "metadata": {},
   "outputs": [],
   "source": [
    "mapped_id, original_id = pd.factorize(URM_all_dataframe[\"UserID\"].unique()) # Encode the object as an enumerated type or categorical variable.\n",
    "\n"
   ]
  },
  {
   "cell_type": "code",
   "execution_count": 11,
   "id": "57fb8637",
   "metadata": {},
   "outputs": [
    {
     "data": {
      "text/plain": [
       "array([0, 1, 2, 3, 4, 5, 6, 7, 8, 9])"
      ]
     },
     "execution_count": 11,
     "metadata": {},
     "output_type": "execute_result"
    }
   ],
   "source": [
    "mapped_id[:10]"
   ]
  },
  {
   "cell_type": "code",
   "execution_count": 12,
   "id": "e046f67e",
   "metadata": {},
   "outputs": [
    {
     "data": {
      "text/plain": [
       "array([ 1,  2,  3,  4,  5,  6,  7,  8,  9, 10, 11, 12, 13, 14, 16, 17, 18,\n",
       "       19, 22, 23])"
      ]
     },
     "execution_count": 12,
     "metadata": {},
     "output_type": "execute_result"
    }
   ],
   "source": [
    "original_id[:20]"
   ]
  },
  {
   "cell_type": "code",
   "execution_count": 13,
   "id": "d639b4e7",
   "metadata": {},
   "outputs": [],
   "source": [
    "user_original_ID_to_index = pd.Series(mapped_id, index=original_id)"
   ]
  },
  {
   "cell_type": "code",
   "execution_count": 14,
   "id": "230b790a",
   "metadata": {},
   "outputs": [
    {
     "data": {
      "text/plain": [
       "1            0\n",
       "2            1\n",
       "3            2\n",
       "4            3\n",
       "5            4\n",
       "         ...  \n",
       "71563    69873\n",
       "71564    69874\n",
       "71565    69875\n",
       "71566    69876\n",
       "71567    69877\n",
       "Length: 69878, dtype: int64"
      ]
     },
     "execution_count": 14,
     "metadata": {},
     "output_type": "execute_result"
    }
   ],
   "source": [
    "user_original_ID_to_index"
   ]
  },
  {
   "cell_type": "code",
   "execution_count": 15,
   "id": "0afdd318",
   "metadata": {},
   "outputs": [],
   "source": [
    "mapped_id, original_id = pd.factorize(URM_all_dataframe[\"ItemID\"].unique())\n",
    "item_original_ID_to_index = pd.Series(mapped_id, index=original_id)"
   ]
  },
  {
   "cell_type": "code",
   "execution_count": 16,
   "id": "ca1f30b0",
   "metadata": {},
   "outputs": [
    {
     "data": {
      "text/plain": [
       "122          0\n",
       "185          1\n",
       "231          2\n",
       "292          3\n",
       "316          4\n",
       "         ...  \n",
       "7537     10672\n",
       "63481    10673\n",
       "64652    10674\n",
       "64427    10675\n",
       "63662    10676\n",
       "Length: 10677, dtype: int64"
      ]
     },
     "execution_count": 16,
     "metadata": {},
     "output_type": "execute_result"
    }
   ],
   "source": [
    "item_original_ID_to_index"
   ]
  },
  {
   "cell_type": "markdown",
   "id": "46787ec2",
   "metadata": {},
   "source": [
    " ### We now replace the IDs in the dataframe and we are ready to use the data"
   ]
  },
  {
   "cell_type": "code",
   "execution_count": 17,
   "id": "11f7f59b",
   "metadata": {},
   "outputs": [],
   "source": [
    "URM_all_dataframe[\"UserID\"] = URM_all_dataframe[\"UserID\"].map(user_original_ID_to_index)\n",
    "URM_all_dataframe[\"ItemID\"] = URM_all_dataframe[\"ItemID\"].map(item_original_ID_to_index)"
   ]
  },
  {
   "cell_type": "code",
   "execution_count": 18,
   "id": "587a811a",
   "metadata": {},
   "outputs": [
    {
     "data": {
      "text/html": [
       "<div>\n",
       "<style scoped>\n",
       "    .dataframe tbody tr th:only-of-type {\n",
       "        vertical-align: middle;\n",
       "    }\n",
       "\n",
       "    .dataframe tbody tr th {\n",
       "        vertical-align: top;\n",
       "    }\n",
       "\n",
       "    .dataframe thead th {\n",
       "        text-align: right;\n",
       "    }\n",
       "</style>\n",
       "<table border=\"1\" class=\"dataframe\">\n",
       "  <thead>\n",
       "    <tr style=\"text-align: right;\">\n",
       "      <th></th>\n",
       "      <th>UserID</th>\n",
       "      <th>ItemID</th>\n",
       "      <th>Interaction</th>\n",
       "      <th>Timestamp</th>\n",
       "    </tr>\n",
       "  </thead>\n",
       "  <tbody>\n",
       "    <tr>\n",
       "      <th>0</th>\n",
       "      <td>0</td>\n",
       "      <td>0</td>\n",
       "      <td>5.0</td>\n",
       "      <td>838985046</td>\n",
       "    </tr>\n",
       "    <tr>\n",
       "      <th>1</th>\n",
       "      <td>0</td>\n",
       "      <td>1</td>\n",
       "      <td>5.0</td>\n",
       "      <td>838983525</td>\n",
       "    </tr>\n",
       "    <tr>\n",
       "      <th>2</th>\n",
       "      <td>0</td>\n",
       "      <td>2</td>\n",
       "      <td>5.0</td>\n",
       "      <td>838983392</td>\n",
       "    </tr>\n",
       "    <tr>\n",
       "      <th>3</th>\n",
       "      <td>0</td>\n",
       "      <td>3</td>\n",
       "      <td>5.0</td>\n",
       "      <td>838983421</td>\n",
       "    </tr>\n",
       "    <tr>\n",
       "      <th>4</th>\n",
       "      <td>0</td>\n",
       "      <td>4</td>\n",
       "      <td>5.0</td>\n",
       "      <td>838983392</td>\n",
       "    </tr>\n",
       "    <tr>\n",
       "      <th>5</th>\n",
       "      <td>0</td>\n",
       "      <td>5</td>\n",
       "      <td>5.0</td>\n",
       "      <td>838983392</td>\n",
       "    </tr>\n",
       "    <tr>\n",
       "      <th>6</th>\n",
       "      <td>0</td>\n",
       "      <td>6</td>\n",
       "      <td>5.0</td>\n",
       "      <td>838984474</td>\n",
       "    </tr>\n",
       "    <tr>\n",
       "      <th>7</th>\n",
       "      <td>0</td>\n",
       "      <td>7</td>\n",
       "      <td>5.0</td>\n",
       "      <td>838983653</td>\n",
       "    </tr>\n",
       "    <tr>\n",
       "      <th>8</th>\n",
       "      <td>0</td>\n",
       "      <td>8</td>\n",
       "      <td>5.0</td>\n",
       "      <td>838984885</td>\n",
       "    </tr>\n",
       "    <tr>\n",
       "      <th>9</th>\n",
       "      <td>0</td>\n",
       "      <td>9</td>\n",
       "      <td>5.0</td>\n",
       "      <td>838983707</td>\n",
       "    </tr>\n",
       "  </tbody>\n",
       "</table>\n",
       "</div>"
      ],
      "text/plain": [
       "   UserID  ItemID  Interaction  Timestamp\n",
       "0       0       0          5.0  838985046\n",
       "1       0       1          5.0  838983525\n",
       "2       0       2          5.0  838983392\n",
       "3       0       3          5.0  838983421\n",
       "4       0       4          5.0  838983392\n",
       "5       0       5          5.0  838983392\n",
       "6       0       6          5.0  838984474\n",
       "7       0       7          5.0  838983653\n",
       "8       0       8          5.0  838984885\n",
       "9       0       9          5.0  838983707"
      ]
     },
     "execution_count": 18,
     "metadata": {},
     "output_type": "execute_result"
    }
   ],
   "source": [
    "URM_all_dataframe.head(10)"
   ]
  },
  {
   "cell_type": "code",
   "execution_count": 19,
   "id": "8872a957",
   "metadata": {},
   "outputs": [
    {
     "name": "stdout",
     "output_type": "stream",
     "text": [
      "Number of items\t 10677, Number of users\t 69878\n",
      "Max ID items\t 10676, Max Id users\t 69877\n",
      "\n",
      "Average interactions per user 143.11\n",
      "Average interactions per item 936.60\n",
      "\n"
     ]
    }
   ],
   "source": [
    "#let's check the structure of the dataframe again:\n",
    "userID_unique = URM_all_dataframe[\"UserID\"].unique()\n",
    "itemID_unique = URM_all_dataframe[\"ItemID\"].unique()\n",
    "\n",
    "n_users = len(userID_unique)\n",
    "n_items = len(itemID_unique)\n",
    "n_interactions = len(URM_all_dataframe)\n",
    "\n",
    "print (\"Number of items\\t {}, Number of users\\t {}\".format(n_items, n_users))\n",
    "print (\"Max ID items\\t {}, Max Id users\\t {}\\n\".format(max(itemID_unique), max(userID_unique)))\n",
    "print (\"Average interactions per user {:.2f}\".format(n_interactions/n_users))\n",
    "print (\"Average interactions per item {:.2f}\\n\".format(n_interactions/n_items))"
   ]
  },
  {
   "cell_type": "code",
   "execution_count": 20,
   "id": "6f2e6774",
   "metadata": {},
   "outputs": [
    {
     "name": "stdout",
     "output_type": "stream",
     "text": [
      "Sparsity 98.66 %\n"
     ]
    }
   ],
   "source": [
    "print (\"Sparsity {:.2f} %\".format((1-float(n_interactions)/(n_items*n_users))*100))"
   ]
  },
  {
   "cell_type": "code",
   "execution_count": 21,
   "id": "12ebdc85",
   "metadata": {},
   "outputs": [
    {
     "data": {
      "image/png": "[encoded data removed]",
      "text/plain": [
       "<Figure size 640x480 with 1 Axes>"
      ]
     },
     "metadata": {},
     "output_type": "display_data"
    }
   ],
   "source": [
    "import matplotlib.pyplot as pyplot\n",
    "\n",
    "# Clone the list to avoid changing the ordering of the original data\n",
    "timestamp_sorted = URM_all_dataframe[\"Timestamp\"].values.copy()\n",
    "timestamp_sorted.sort()\n",
    "\n",
    "\n",
    "pyplot.plot(timestamp_sorted, 'ro')\n",
    "pyplot.ylabel('Timestamp ')\n",
    "pyplot.xlabel('Sorted Item')\n",
    "pyplot.show()"
   ]
  },
  {
   "cell_type": "markdown",
   "id": "5046f266",
   "metadata": {},
   "source": [
    "<div class=\"alert alert-block alert-success\">\n",
    "    <h1 align=\"center\">4-Turn the dataframe to COO, CSR,CSC format matirx</h1>\n",
    "</div>"
   ]
  },
  {
   "cell_type": "markdown",
   "id": "668569e0",
   "metadata": {},
   "source": [
    "#### To store the data we use a sparse matrix. We build it as a COO matrix and then change its format\n",
    "\n",
    "#### The COO constructor expects (data, (row, column))"
   ]
  },
  {
   "cell_type": "code",
   "execution_count": 22,
   "id": "891280fd",
   "metadata": {},
   "outputs": [
    {
     "data": {
      "text/plain": [
       "<69878x10677 sparse matrix of type '<class 'numpy.float64'>'\n",
       "\twith 10000054 stored elements in COOrdinate format>"
      ]
     },
     "execution_count": 22,
     "metadata": {},
     "output_type": "execute_result"
    }
   ],
   "source": [
    "import scipy.sparse as sps\n",
    "\n",
    "# Step 1 : Turn it to coo matrix with sps.coo_matrix((data, (i, j)), [shape=(M, N)])\n",
    "URM_all = sps.coo_matrix((URM_all_dataframe[\"Interaction\"].values,\n",
    "                          (URM_all_dataframe[\"UserID\"].values, URM_all_dataframe[\"ItemID\"].values)))\n",
    "\n",
    "URM_all"
   ]
  },
  {
   "cell_type": "code",
   "execution_count": 23,
   "id": "bb721098",
   "metadata": {},
   "outputs": [
    {
     "data": {
      "text/plain": [
       "array([[5., 5., 5., ..., 0., 0., 0.],\n",
       "       [0., 0., 0., ..., 0., 0., 0.],\n",
       "       [0., 0., 0., ..., 0., 0., 0.],\n",
       "       ...,\n",
       "       [0., 0., 0., ..., 0., 0., 0.],\n",
       "       [0., 3., 0., ..., 0., 0., 0.],\n",
       "       [0., 0., 0., ..., 0., 0., 0.]])"
      ]
     },
     "execution_count": 23,
     "metadata": {},
     "output_type": "execute_result"
    }
   ],
   "source": [
    "# Print the matrix \n",
    "URM_all.toarray()"
   ]
  },
  {
   "cell_type": "code",
   "execution_count": 24,
   "id": "6780a07e",
   "metadata": {},
   "outputs": [
    {
     "name": "stdout",
     "output_type": "stream",
     "text": [
      "list row pointers: [       0       22       42 ...  9999952 10000001 10000054]\n",
      "Lenght: 69879\n",
      "Indices: [   0    1    2 ... 3386 3448 5330]\n",
      "Lenght: 10000054\n",
      "Data: [5. 5. 5. ... 3. 1. 1.]\n",
      "Lenght: 10000054\n"
     ]
    }
   ],
   "source": [
    "# Step 2: Trun it to CSR matrix with URM_all.tocsr\n",
    "URM_all.tocsr()\n",
    "print('list row pointers:',URM_all.tocsr().indptr)\n",
    "print('Lenght:',len(URM_all.tocsr().indptr))\n",
    "print('Indices:',URM_all.tocsr().indices)\n",
    "print('Lenght:',len(URM_all.tocsr().indices))\n",
    "print('Data:',URM_all.tocsr().data)\n",
    "print('Lenght:',len(URM_all.tocsr().data))"
   ]
  },
  {
   "cell_type": "code",
   "execution_count": 25,
   "id": "6244cf6b",
   "metadata": {},
   "outputs": [
    {
     "name": "stdout",
     "output_type": "stream",
     "text": [
      "list column pointers: [       0     2412    17387 ... 10000052 10000053 10000054]\n",
      "Lenght: 10678\n",
      "Indices: [    0   128   136 ... 65888 67546 69154]\n",
      "Lenght: 10000054\n",
      "Data: [5.  3.  2.5 ... 2.  4.  4. ]\n",
      "Lenght: 10000054\n"
     ]
    }
   ],
   "source": [
    "# Step 3: Trun it to CSC matrix with URM_all.tocsc\n",
    "URM_all.tocsc()\n",
    "print('list column pointers:',URM_all.tocsc().indptr)\n",
    "print('Lenght:',len(URM_all.tocsc().indptr))\n",
    "print('Indices:',URM_all.tocsc().indices)\n",
    "print('Lenght:',len(URM_all.tocsc().indices))\n",
    "print('Data:',URM_all.tocsc().data)\n",
    "print('Lenght:',len(URM_all.tocsc().data))"
   ]
  },
  {
   "cell_type": "markdown",
   "id": "30bb0510",
   "metadata": {},
   "source": [
    "<div class=\"alert alert-block alert-success\">\n",
    "    <h1 align=\"center\">5-Calculate item-popularity and user-activity</h1>\n",
    "</div>"
   ]
  },
  {
   "cell_type": "markdown",
   "id": "765a968d",
   "metadata": {},
   "source": [
    "### We compute the item popularity as the number of interaction in each column\n",
    "\n",
    "### We can use the properties of sparse matrices in CSC format"
   ]
  },
  {
   "cell_type": "code",
   "execution_count": 26,
   "id": "d7791d5c",
   "metadata": {},
   "outputs": [
    {
     "name": "stdout",
     "output_type": "stream",
     "text": [
      "Item_popularity: [ 2412 14975 17851 ...     1     1     1]\n",
      "Sorted item_popularity: [    1     1     1 ... 33668 34457 34864]\n",
      "Lenght: 10677\n"
     ]
    },
    {
     "data": {
      "image/png": "[encoded data removed]",
      "text/plain": [
       "<Figure size 640x480 with 1 Axes>"
      ]
     },
     "metadata": {},
     "output_type": "display_data"
    }
   ],
   "source": [
    "import numpy as np\n",
    "# ediff1d(The differences between consecutive elements of an array.)\n",
    "item_popularity = np.ediff1d(URM_all.tocsc().indptr)\n",
    "print('Item_popularity:',item_popularity)\n",
    "item_popularity = np.sort(item_popularity)\n",
    "print('Sorted item_popularity:',item_popularity)\n",
    "print('Lenght:',len(item_popularity))\n",
    "# Plot it\n",
    "pyplot.plot(item_popularity, 'ro')\n",
    "pyplot.ylabel('Num Interactions ')\n",
    "pyplot.xlabel('Sorted Item')\n",
    "pyplot.show()"
   ]
  },
  {
   "cell_type": "code",
   "execution_count": 27,
   "id": "ae04233c",
   "metadata": {},
   "outputs": [
    {
     "name": "stdout",
     "output_type": "stream",
     "text": [
      "Average per-item interactions over the whole dataset 936.60\n",
      "Average per-item interactions for the top 10% popular items 6479.52\n",
      "Average per-item interactions for the least 10% popular items 5.23\n",
      "Average per-item interactions for the median 10% popular items 136.45\n"
     ]
    }
   ],
   "source": [
    "ten_percent = int(n_items/10)\n",
    "\n",
    "print(\"Average per-item interactions over the whole dataset {:.2f}\".\n",
    "      format(item_popularity.mean()))\n",
    "\n",
    "print(\"Average per-item interactions for the top 10% popular items {:.2f}\".\n",
    "      format(item_popularity[-ten_percent:].mean()))\n",
    "\n",
    "print(\"Average per-item interactions for the least 10% popular items {:.2f}\".\n",
    "      format(item_popularity[:ten_percent].mean()))\n",
    "\n",
    "print(\"Average per-item interactions for the median 10% popular items {:.2f}\".\n",
    "      format(item_popularity[int(n_items*0.45):int(n_items*0.55)].mean()))"
   ]
  },
  {
   "cell_type": "markdown",
   "id": "272b3473",
   "metadata": {},
   "source": [
    "### We compute the user activity (profile length) as the number of interaction in each row\n",
    "\n",
    "### We can use the properties of sparse matrices in CSR format"
   ]
  },
  {
   "cell_type": "code",
   "execution_count": 28,
   "id": "fed3a3d2",
   "metadata": {},
   "outputs": [
    {
     "name": "stdout",
     "output_type": "stream",
     "text": [
      "user_activity: [ 22  20  33 ... 145  49  53]\n",
      "Sorted user_activity: [  20   20   20 ... 5169 7047 7359]\n",
      "Lenght: 69878\n"
     ]
    },
    {
     "data": {
      "image/png": "[encoded data removed]",
      "text/plain": [
       "<Figure size 640x480 with 1 Axes>"
      ]
     },
     "metadata": {},
     "output_type": "display_data"
    }
   ],
   "source": [
    "# ediff1d(The differences between consecutive elements of an array.)\n",
    "user_activity = np.ediff1d(URM_all.tocsr().indptr)\n",
    "print('user_activity:',user_activity)\n",
    "user_activity = np.sort(user_activity)\n",
    "print('Sorted user_activity:',user_activity)\n",
    "print('Lenght:',len(user_activity))\n",
    "# Plot it\n",
    "pyplot.plot(user_activity, 'ro')\n",
    "pyplot.ylabel('Num Interactions ')\n",
    "pyplot.xlabel('Sorted User')\n",
    "pyplot.show()"
   ]
  },
  {
   "cell_type": "markdown",
   "id": "dcea703d",
   "metadata": {},
   "source": [
    "<div class=\"alert alert-block alert-success\">\n",
    "    <h1 align=\"center\">6-URM_train and URM_test</h1>\n",
    "</div>"
   ]
  },
  {
   "cell_type": "markdown",
   "id": "ee5cb6da",
   "metadata": {},
   "source": [
    "### In order to evaluate our recommender we have to define:\n",
    "* A splitting of the data in URM_train and URM_test\n",
    "* An evaluation metric\n",
    "* A functon computing the evaluation for each user\n",
    "\n",
    "### The splitting of the data is very important to ensure your algorithm is evaluated in a realistic scenario by using test it has never seen. We create two splits:\n",
    "#### - Train data: we will use this to train our model\n",
    "#### - Test data: we will use this to evaluate our model"
   ]
  },
  {
   "cell_type": "code",
   "execution_count": 29,
   "id": "d6891718",
   "metadata": {},
   "outputs": [
    {
     "name": "stdout",
     "output_type": "stream",
     "text": [
      "train_mask [ True  True  True ...  True  True  True]\n",
      "7998292stored elements\n"
     ]
    },
    {
     "data": {
      "text/plain": [
       "array([[5., 5., 5., ..., 0., 0., 0.],\n",
       "       [0., 0., 0., ..., 0., 0., 0.],\n",
       "       [0., 0., 0., ..., 0., 0., 0.],\n",
       "       ...,\n",
       "       [0., 0., 0., ..., 0., 0., 0.],\n",
       "       [0., 3., 0., ..., 0., 0., 0.],\n",
       "       [0., 0., 0., ..., 0., 0., 0.]])"
      ]
     },
     "execution_count": 29,
     "metadata": {},
     "output_type": "execute_result"
    }
   ],
   "source": [
    "# Step 1: Create train matrix\n",
    "train_test_split = 0.80\n",
    "n_interactions = URM_all.nnz\n",
    "\n",
    "train_mask = np.random.choice([True,False], n_interactions, p=[train_test_split, 1-train_test_split])\n",
    "print('train_mask',train_mask)\n",
    "\n",
    "URM_train = sps.csr_matrix((URM_all.data[train_mask],\n",
    "                            (URM_all.row[train_mask], URM_all.col[train_mask])))\n",
    "\n",
    "print(f'{len(URM_train.data)}stored elements')\n",
    "URM_train.toarray()\n"
   ]
  },
  {
   "cell_type": "code",
   "execution_count": 30,
   "id": "01f54df8",
   "metadata": {},
   "outputs": [
    {
     "name": "stdout",
     "output_type": "stream",
     "text": [
      "test_mask [False False False ... False False False]\n",
      "2001762stored elements\n"
     ]
    },
    {
     "data": {
      "text/plain": [
       "array([[0., 0., 0., ..., 0., 0., 0.],\n",
       "       [0., 0., 0., ..., 0., 0., 0.],\n",
       "       [0., 0., 0., ..., 0., 0., 0.],\n",
       "       ...,\n",
       "       [0., 0., 0., ..., 0., 0., 0.],\n",
       "       [0., 0., 0., ..., 0., 0., 0.],\n",
       "       [0., 0., 0., ..., 0., 0., 0.]])"
      ]
     },
     "execution_count": 30,
     "metadata": {},
     "output_type": "execute_result"
    }
   ],
   "source": [
    "# Create test matrix\n",
    "test_mask = np.logical_not(train_mask)\n",
    "print('test_mask',test_mask)\n",
    "URM_test = sps.csr_matrix((URM_all.data[test_mask],\n",
    "                            (URM_all.row[test_mask], URM_all.col[test_mask])))\n",
    "print(f'{len(URM_test.data)}stored elements')\n",
    "\n",
    "URM_test.toarray()"
   ]
  },
  {
   "cell_type": "markdown",
   "id": "15d6aef1",
   "metadata": {},
   "source": [
    "<div class=\"alert alert-block alert-success\">\n",
    "    <h1 align=\"center\">7-Chose random relevant items for a user</h1>\n",
    "</div>"
   ]
  },
  {
   "cell_type": "code",
   "execution_count": 31,
   "id": "9d165ce9",
   "metadata": {},
   "outputs": [
    {
     "name": "stdout",
     "output_type": "stream",
     "text": [
      "relevant_items for user(124) are\n",
      "[  27   30   47   71   83   93  146  178  181  225  302  398  399  404\n",
      " 1008 1079 1318 1429 1469 1603 2771]\n",
      "------------------------------------------------------------\n",
      "recommended_items by us for user(124) are\n",
      "[ 241 1622   15  857 5823]\n"
     ]
    }
   ],
   "source": [
    "#Les's see relevant items for an random user like 124\n",
    "user_id = 124\n",
    "relevant_items = URM_test[user_id].indices\n",
    "print(f'relevant_items for user({user_id}) are\\n{relevant_items}')\n",
    "print('-'*60)\n",
    "# We recommend these items for the user\n",
    "recommended_items = np.array([241, 1622, 15, 857, 5823])\n",
    "print(f'recommended_items by us for user({user_id}) are\\n{recommended_items}') "
   ]
  },
  {
   "cell_type": "code",
   "execution_count": 32,
   "id": "72120407",
   "metadata": {
    "scrolled": true
   },
   "outputs": [
    {
     "name": "stdout",
     "output_type": "stream",
     "text": [
      "[False False False False False]\n",
      "recommended_items which are in relavent itemsrecommended_items:\t []\n"
     ]
    }
   ],
   "source": [
    "# Let's check how many of the recommendeD_items are in relavent items\n",
    "is_relevant = np.in1d(recommended_items, relevant_items, assume_unique=True)\n",
    "print(is_relevant)\n",
    "print('recommended_items which are in relavent itemsrecommended_items:\\t',recommended_items[is_relevant])"
   ]
  },
  {
   "cell_type": "markdown",
   "id": "44e040af",
   "metadata": {},
   "source": [
    "<div class=\"alert alert-block alert-success\">\n",
    "    <h1 align=\"center\">7-Evaluation metrics</h1>\n",
    "</div>"
   ]
  },
  {
   "cell_type": "markdown",
   "id": "7e188146",
   "metadata": {},
   "source": [
    "### Evaluation metric\n",
    "#### We call items in the test set 'relevant'"
   ]
  },
  {
   "cell_type": "markdown",
   "id": "381718d5",
   "metadata": {},
   "source": [
    "### Precision: how many of the recommended items are relevant"
   ]
  },
  {
   "cell_type": "code",
   "execution_count": 33,
   "id": "b3b3e03e",
   "metadata": {},
   "outputs": [],
   "source": [
    "def precision(recommended_items, relevant_items):\n",
    "    \n",
    "    is_relevant = np.in1d(recommended_items, relevant_items, assume_unique=True)\n",
    "    \n",
    "    precision_score = np.sum(is_relevant, dtype=np.float32) / len(is_relevant)\n",
    "    \n",
    "    return precision_score\n",
    "\n"
   ]
  },
  {
   "cell_type": "markdown",
   "id": "6955c569",
   "metadata": {},
   "source": [
    "### Recall: how many of the relevant items I was able to recommend"
   ]
  },
  {
   "cell_type": "code",
   "execution_count": 34,
   "id": "b409f660",
   "metadata": {},
   "outputs": [],
   "source": [
    "def recall(recommended_items, relevant_items):\n",
    "    \n",
    "    is_relevant = np.in1d(recommended_items, relevant_items, assume_unique=True)\n",
    "    \n",
    "    recall_score = np.sum(is_relevant, dtype=np.float32) / relevant_items.shape[0]\n",
    "    \n",
    "    return recall_score"
   ]
  },
  {
   "cell_type": "markdown",
   "id": "d506c3b2",
   "metadata": {},
   "source": [
    "### Average Precision"
   ]
  },
  {
   "cell_type": "code",
   "execution_count": 35,
   "id": "e297f686",
   "metadata": {},
   "outputs": [],
   "source": [
    "def AP(recommended_items, relevant_items):\n",
    "   \n",
    "    is_relevant = np.in1d(recommended_items, relevant_items, assume_unique=True)\n",
    "    \n",
    "    # Cumulative sum: precision at 1, at 2, at 3 ...\n",
    "    p_at_k = is_relevant * np.cumsum(is_relevant, dtype=np.float32) / (1 + np.arange(is_relevant.shape[0]))\n",
    "    \n",
    "    ap_score = np.sum(p_at_k) / np.min([relevant_items.shape[0], is_relevant.shape[0]])\n",
    "\n",
    "    return ap_score"
   ]
  },
  {
   "cell_type": "code",
   "execution_count": 36,
   "id": "165834ba",
   "metadata": {},
   "outputs": [
    {
     "name": "stdout",
     "output_type": "stream",
     "text": [
      "precision_score 0.0\n",
      "recall_score 0.0\n",
      "ap_score 0.0\n"
     ]
    }
   ],
   "source": [
    "precision_score = precision(recommended_items,relevant_items)\n",
    "print('precision_score',precision_score)\n",
    "recall_score = recall(recommended_items,relevant_items)\n",
    "print('recall_score',recall_score)\n",
    "ap_score = AP(recommended_items,relevant_items)\n",
    "print('ap_score',ap_score)"
   ]
  },
  {
   "cell_type": "markdown",
   "id": "20dccd4d",
   "metadata": {},
   "source": [
    "<div class=\"alert alert-block alert-success\">\n",
    "    <h1 align=\"center\">8-Built the first recommender</h1>\n",
    "</div>"
   ]
  },
  {
   "cell_type": "markdown",
   "id": "61bb56a0",
   "metadata": {},
   "source": [
    "### Now that we have the data, we can build our first recommender. We need two things:\n",
    "* a 'fit' function to train our model\n",
    "* a 'recommend' function that uses our model to recommend\n",
    "\n",
    "### Let's start with a random recommender"
   ]
  },
  {
   "cell_type": "markdown",
   "id": "5e79fb77",
   "metadata": {},
   "source": [
    "#### In a random recommend we don't have anything to learn from the data"
   ]
  },
  {
   "cell_type": "code",
   "execution_count": 37,
   "id": "a69f3316",
   "metadata": {},
   "outputs": [],
   "source": [
    "class RandomRecommender(object):\n",
    "\n",
    "    def fit(self, URM_train):\n",
    "           \n",
    "        self.n_items = URM_train.shape[1]\n",
    "    \n",
    "    \n",
    "    def recommend(self, user_id, at=5):\n",
    "    \n",
    "        recommended_items = np.random.choice(self.n_items, at)\n",
    "\n",
    "        return recommended_items"
   ]
  },
  {
   "cell_type": "code",
   "execution_count": 41,
   "id": "33b1a239",
   "metadata": {},
   "outputs": [
    {
     "name": "stdout",
     "output_type": "stream",
     "text": [
      "Recommnede_items for user_id(0)\n",
      "[2754 3527  929 3028 1423]\n",
      "----------------------------------------\n",
      "Recommnede_items for user_id(1)\n",
      "[7765 9986 4108 7320 9358]\n",
      "----------------------------------------\n",
      "Recommnede_items for user_id(2)\n",
      "[8247 3530 5494 7184 2771]\n",
      "----------------------------------------\n",
      "Recommnede_items for user_id(3)\n",
      "[ 3146 10185  1704  2182  8272]\n",
      "----------------------------------------\n",
      "Recommnede_items for user_id(4)\n",
      "[1137 3412 6633 4136 6625]\n",
      "----------------------------------------\n",
      "Recommnede_items for user_id(5)\n",
      "[5281 2564 4665 5946  949]\n",
      "----------------------------------------\n",
      "Recommnede_items for user_id(6)\n",
      "[7425 5525  570 9706 9848]\n",
      "----------------------------------------\n",
      "Recommnede_items for user_id(7)\n",
      "[ 7157  6990  7138  7722 10135]\n",
      "----------------------------------------\n",
      "Recommnede_items for user_id(8)\n",
      "[7883 5442 9560 5483 6018]\n",
      "----------------------------------------\n",
      "Recommnede_items for user_id(9)\n",
      "[4748 2606 8889 6917 8485]\n",
      "----------------------------------------\n"
     ]
    }
   ],
   "source": [
    "randomRecommender = RandomRecommender()\n",
    "randomRecommender.fit(URM_train)\n",
    "\n",
    "for user_id in range(10):\n",
    "    print(f'Recommnede_items for user_id({user_id})')\n",
    "    print(randomRecommender.recommend(user_id, at=5))\n",
    "    print('-'*40)"
   ]
  },
  {
   "cell_type": "markdown",
   "id": "d1e8f6e2",
   "metadata": {},
   "source": [
    "<div class=\"alert alert-block alert-success\">\n",
    "    <h1 align=\"center\">9-Evaluation on the first recommender</h1>\n",
    "</div>"
   ]
  },
  {
   "cell_type": "markdown",
   "id": "b96ca751",
   "metadata": {},
   "source": [
    "### Put all together in an evaluation function and let's test it!"
   ]
  },
  {
   "cell_type": "code",
   "execution_count": 42,
   "id": "755c1caa",
   "metadata": {},
   "outputs": [],
   "source": [
    "# We pass as paramether the recommender class\n",
    "\n",
    "def evaluate_algorithm(URM_test, recommender_object, at=5):\n",
    "    \n",
    "    cumulative_precision = 0.0\n",
    "    cumulative_recall = 0.0\n",
    "    cumulative_AP = 0.0\n",
    "    \n",
    "    num_eval = 0\n",
    "\n",
    "\n",
    "    for user_id in range(URM_test.shape[0]):\n",
    "\n",
    "        relevant_items = URM_test.indices[URM_test.indptr[user_id]:URM_test.indptr[user_id+1]] # Finding relvant_items\n",
    "        \n",
    "        if len(relevant_items)>0:\n",
    "            \n",
    "            recommended_items = recommender_object.recommend(user_id, at=at)\n",
    "            num_eval+=1\n",
    "\n",
    "            cumulative_precision += precision(recommended_items, relevant_items)\n",
    "            cumulative_recall += recall(recommended_items, relevant_items)\n",
    "            cumulative_AP += AP(recommended_items, relevant_items)\n",
    "            \n",
    "    cumulative_precision /= num_eval # Average\n",
    "    cumulative_recall /= num_eval\n",
    "    MAP = cumulative_AP / num_eval\n",
    "    \n",
    "    print(\"Recommender results are: Precision = {:.4f}, Recall = {:.4f}, MAP = {:.4f}\".format(\n",
    "        cumulative_precision, cumulative_recall, MAP)) \n"
   ]
  },
  {
   "cell_type": "code",
   "execution_count": 43,
   "id": "3940e543",
   "metadata": {},
   "outputs": [
    {
     "name": "stdout",
     "output_type": "stream",
     "text": [
      "Recommender results are: Precision = 0.0028, Recall = 0.0005, MAP = 0.0013\n"
     ]
    }
   ],
   "source": [
    "evaluate_algorithm(URM_test, randomRecommender)"
   ]
  },
  {
   "cell_type": "markdown",
   "id": "bb1e74f9",
   "metadata": {},
   "source": [
    "## So the code works. The recommendation quality however..."
   ]
  },
  {
   "cell_type": "markdown",
   "id": "a853d05e",
   "metadata": {},
   "source": [
    "<div class=\"alert alert-block alert-success\">\n",
    "    <h1 align=\"center\">10-Top popular recommender</h1>\n",
    "</div>"
   ]
  },
  {
   "cell_type": "markdown",
   "id": "b526263a",
   "metadata": {},
   "source": [
    "# Top Popular recommender\n",
    "\n",
    "#### We recommend to all users the most popular items, that is those with the highest number of interactions\n",
    "#### In this case our model is the item popularity "
   ]
  },
  {
   "cell_type": "code",
   "execution_count": 44,
   "id": "14797eb4",
   "metadata": {},
   "outputs": [],
   "source": [
    "class TopPopRecommender(object):\n",
    "\n",
    "    def fit(self, URM_train):\n",
    "\n",
    "        item_popularity = np.ediff1d(URM_all.tocsc().indptr)\n",
    "\n",
    "        # We are not interested in sorting the popularity value,\n",
    "        # but to order the items according to it\n",
    "        self.popular_items = np.argsort(item_popularity)\n",
    "        self.popular_items = np.flip(self.popular_items, axis = 0)\n",
    "    \n",
    "    \n",
    "    def recommend(self, user_id, at=5):\n",
    "    \n",
    "        recommended_items = self.popular_items[0:at]\n",
    "\n",
    "        return recommended_items"
   ]
  },
  {
   "cell_type": "markdown",
   "id": "0a61859d",
   "metadata": {},
   "source": [
    "### Now train and test our model"
   ]
  },
  {
   "cell_type": "code",
   "execution_count": 46,
   "id": "c5de7d00",
   "metadata": {},
   "outputs": [
    {
     "name": "stdout",
     "output_type": "stream",
     "text": [
      "5 topPopRecommender for user_id(0)\n",
      "[1008    7  139   14 1293]\n",
      "----------------------------------------\n",
      "5 topPopRecommender for user_id(1)\n",
      "[1008    7  139   14 1293]\n",
      "----------------------------------------\n",
      "5 topPopRecommender for user_id(2)\n",
      "[1008    7  139   14 1293]\n",
      "----------------------------------------\n",
      "5 topPopRecommender for user_id(3)\n",
      "[1008    7  139   14 1293]\n",
      "----------------------------------------\n",
      "5 topPopRecommender for user_id(4)\n",
      "[1008    7  139   14 1293]\n",
      "----------------------------------------\n",
      "5 topPopRecommender for user_id(5)\n",
      "[1008    7  139   14 1293]\n",
      "----------------------------------------\n",
      "5 topPopRecommender for user_id(6)\n",
      "[1008    7  139   14 1293]\n",
      "----------------------------------------\n",
      "5 topPopRecommender for user_id(7)\n",
      "[1008    7  139   14 1293]\n",
      "----------------------------------------\n",
      "5 topPopRecommender for user_id(8)\n",
      "[1008    7  139   14 1293]\n",
      "----------------------------------------\n",
      "5 topPopRecommender for user_id(9)\n",
      "[1008    7  139   14 1293]\n",
      "----------------------------------------\n"
     ]
    }
   ],
   "source": [
    "topPopRecommender = TopPopRecommender()\n",
    "topPopRecommender.fit(URM_train)\n",
    "\n",
    "for user_id in range(10):\n",
    "    print(f'5 topPopRecommender for user_id({user_id})')\n",
    "    print(topPopRecommender.recommend(user_id, at=5))\n",
    "    print('-'*40)"
   ]
  },
  {
   "cell_type": "markdown",
   "id": "aeea6613",
   "metadata": {},
   "source": [
    "<div class=\"alert alert-block alert-success\">\n",
    "    <h1 align=\"center\">11-Evaluation on 5 Top popular recommender</h1>\n",
    "</div>"
   ]
  },
  {
   "cell_type": "code",
   "execution_count": 47,
   "id": "d2efcfb5",
   "metadata": {},
   "outputs": [
    {
     "name": "stdout",
     "output_type": "stream",
     "text": [
      "Recommender results are: Precision = 0.0954, Recall = 0.0309, MAP = 0.0524\n"
     ]
    }
   ],
   "source": [
    "evaluate_algorithm(URM_test, topPopRecommender, at=5)"
   ]
  },
  {
   "cell_type": "markdown",
   "id": "256edce9",
   "metadata": {},
   "source": [
    "### That's better, but we can improve\n",
    "\n",
    "### Hint, remove items already seen by the user. We can either remove them from the recommended item list or we can set them to a score so low that it will cause them to end at the very bottom of all the available items"
   ]
  },
  {
   "cell_type": "markdown",
   "id": "9fdfa2ed",
   "metadata": {},
   "source": [
    "<div class=\"alert alert-block alert-success\">\n",
    "    <h1 align=\"center\">12- Five Top popular recommender, while we removed seen items</h1>\n",
    "</div>"
   ]
  },
  {
   "cell_type": "code",
   "execution_count": 48,
   "id": "283fa97c",
   "metadata": {},
   "outputs": [],
   "source": [
    "class TopPopRecommender(object):\n",
    "\n",
    "    def fit(self, URM_train):\n",
    "        \n",
    "        self.URM_train = URM_train\n",
    "\n",
    "        item_popularity = np.ediff1d(URM_all.tocsc().indptr)\n",
    "\n",
    "        # We are not interested in sorting the popularity value,\n",
    "        # but to order the items according to it\n",
    "        self.popular_items = np.argsort(item_popularity)\n",
    "        self.popular_items = np.flip(self.popular_items, axis = 0)\n",
    "    \n",
    "    \n",
    "    def recommend(self, user_id, at=5, remove_seen=True):\n",
    "\n",
    "        if remove_seen:\n",
    "            seen_items = self.URM_train.indices[self.URM_train.indptr[user_id]:self.URM_train.indptr[user_id+1]]\n",
    "            \n",
    "            unseen_items_mask = np.in1d(self.popular_items, seen_items, assume_unique=True, invert = True)\n",
    "\n",
    "            unseen_items = self.popular_items[unseen_items_mask]\n",
    "\n",
    "            recommended_items = unseen_items[0:at]\n",
    "\n",
    "        else:\n",
    "            recommended_items = self.popular_items[0:at]\n",
    "            \n",
    "\n",
    "        return recommended_items\n"
   ]
  },
  {
   "cell_type": "code",
   "execution_count": 50,
   "id": "c458c25b",
   "metadata": {},
   "outputs": [
    {
     "name": "stdout",
     "output_type": "stream",
     "text": [
      "five topPopRecommender_removeSeen for user_id(0)\n",
      "[1008  139 1293   22  175]\n",
      "----------------------------------------\n",
      "five topPopRecommender_removeSeen for user_id(1)\n",
      "[1008    7  139   14 1293]\n",
      "----------------------------------------\n",
      "five topPopRecommender_removeSeen for user_id(2)\n",
      "[1008    7  139   14 1293]\n",
      "----------------------------------------\n",
      "five topPopRecommender_removeSeen for user_id(3)\n",
      "[1008    7  139 1293  175]\n",
      "----------------------------------------\n",
      "five topPopRecommender_removeSeen for user_id(4)\n",
      "[1008    7   14 1293   22]\n",
      "----------------------------------------\n",
      "five topPopRecommender_removeSeen for user_id(5)\n",
      "[1008    7  139   14 1293]\n",
      "----------------------------------------\n",
      "five topPopRecommender_removeSeen for user_id(6)\n",
      "[1008    7   14 1293   22]\n",
      "----------------------------------------\n",
      "five topPopRecommender_removeSeen for user_id(7)\n",
      "[1008    7 1293   22   74]\n",
      "----------------------------------------\n",
      "five topPopRecommender_removeSeen for user_id(8)\n",
      "[1008    7  139   14 1293]\n",
      "----------------------------------------\n",
      "five topPopRecommender_removeSeen for user_id(9)\n",
      "[  14 1293   22   19   24]\n",
      "----------------------------------------\n"
     ]
    }
   ],
   "source": [
    "topPopRecommender_removeSeen = TopPopRecommender()\n",
    "topPopRecommender_removeSeen.fit(URM_train)\n",
    "\n",
    "for user_id in range(10):\n",
    "    print(f'five topPopRecommender_removeSeen for user_id({user_id})')\n",
    "    print(topPopRecommender_removeSeen.recommend(user_id, at=5))\n",
    "    print('-'*40)"
   ]
  },
  {
   "cell_type": "code",
   "execution_count": 51,
   "id": "7590f669",
   "metadata": {},
   "outputs": [
    {
     "name": "stdout",
     "output_type": "stream",
     "text": [
      "Recommender results are: Precision = 0.1982, Recall = 0.0532, MAP = 0.1473\n"
     ]
    }
   ],
   "source": [
    "# Evaluation on five toprecommenders_remove seen items\n",
    "evaluate_algorithm(URM_test, topPopRecommender_removeSeen)"
   ]
  },
  {
   "cell_type": "markdown",
   "id": "84c8265f",
   "metadata": {},
   "source": [
    "### Simple but effective. Always remove seen items if your purpose is to recommend \"new\" ones"
   ]
  },
  {
   "cell_type": "markdown",
   "id": "595063e9",
   "metadata": {},
   "source": [
    "<div class=\"alert alert-block alert-success\">\n",
    "    <h1 align=\"center\">13- Use global effects</h1>\n",
    "</div>"
   ]
  },
  {
   "cell_type": "markdown",
   "id": "f4a8bf66",
   "metadata": {},
   "source": [
    "###  You need to understand it first"
   ]
  },
  {
   "cell_type": "code",
   "execution_count": null,
   "id": "0782ff69",
   "metadata": {},
   "outputs": [],
   "source": []
  }
 ],
 "metadata": {
  "kernelspec": {
   "display_name": "Python 3 (ipykernel)",
   "language": "python",
   "name": "python3"
  },
  "language_info": {
   "codemirror_mode": {
    "name": "ipython",
    "version": 3
   },
   "file_extension": ".py",
   "mimetype": "text/x-python",
   "name": "python",
   "nbconvert_exporter": "python",
   "pygments_lexer": "ipython3",
   "version": "3.8.10"
  }
 },
 "nbformat": 4,
 "nbformat_minor": 5
}
